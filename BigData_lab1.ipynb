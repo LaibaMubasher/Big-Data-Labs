{
  "nbformat": 4,
  "nbformat_minor": 0,
  "metadata": {
    "colab": {
      "provenance": []
    },
    "kernelspec": {
      "name": "python3",
      "display_name": "Python 3"
    },
    "language_info": {
      "name": "python"
    }
  },
  "cells": [
    {
      "cell_type": "code",
      "execution_count": null,
      "metadata": {
        "colab": {
          "base_uri": "https://localhost:8080/"
        },
        "id": "TbCf0uI3f4ki",
        "outputId": "056f0234-9e15-4bcd-a8b6-4f7f74520ea3"
      },
      "outputs": [
        {
          "output_type": "stream",
          "name": "stdout",
          "text": [
            "enter a word ttet\n",
            "not palindrome\n"
          ]
        }
      ],
      "source": [
        "x=input( \"enter a word \")\n",
        "length=len(x)\n",
        "x=x.lower()\n",
        "y=x[::-1]\n",
        "if x==y:\n",
        "    print(\"is palindrome\")\n",
        "else:\n",
        "  print(\"not palindrome\")\n",
        "\n"
      ]
    },
    {
      "cell_type": "code",
      "source": [
        "x=input( \"enter a number \")\n",
        "x=(int(x))**(1/2)\n",
        "print(int(x))"
      ],
      "metadata": {
        "colab": {
          "base_uri": "https://localhost:8080/"
        },
        "id": "ZaAAyk2thYew",
        "outputId": "6bdde9e2-e0cf-43e1-9f30-3be97fea490e"
      },
      "execution_count": null,
      "outputs": [
        {
          "output_type": "stream",
          "name": "stdout",
          "text": [
            "enter a number 4\n",
            "2\n"
          ]
        }
      ]
    },
    {
      "cell_type": "code",
      "source": [
        "x=input(\" enter a word \")\n",
        "print(x)\n",
        "length=len(x)\n",
        "print(length)\n",
        "y=x[::-1]\n",
        "print(y)"
      ],
      "metadata": {
        "colab": {
          "base_uri": "https://localhost:8080/"
        },
        "id": "VRhaQx16hc-R",
        "outputId": "b1d4a8db-4e0d-41fc-f6f9-a72db6a8820e"
      },
      "execution_count": null,
      "outputs": [
        {
          "output_type": "stream",
          "name": "stdout",
          "text": [
            " enter a word hello\n",
            "hello\n",
            "5\n",
            "olleh\n"
          ]
        }
      ]
    },
    {
      "cell_type": "markdown",
      "source": [
        "part b task 1"
      ],
      "metadata": {
        "id": "GH-LTsID3iOn"
      }
    },
    {
      "cell_type": "code",
      "source": [
        "def triangle():\n",
        "  print(\"     *    \")\n",
        "  print(\"   *   *   \")\n",
        "  print(\"  *      *  \")\n",
        "  print(\"*         * \")\n",
        "  print(\"************  \")\n",
        "  return\n",
        "\n",
        "def rectangle():\n",
        "  print(\"************\")\n",
        "  print(\"*          *\")\n",
        "  print(\"*          *\")\n",
        "  print(\"*          *\")\n",
        "  print(\"*          *\")\n",
        "  print(\"************\")\n",
        "  return\n",
        "x=input(\" choose a number between 1 or 2 \")\n",
        "if x=='1':\n",
        "  triangle()\n",
        "elif x=='2':\n",
        "  rectangle()"
      ],
      "metadata": {
        "colab": {
          "base_uri": "https://localhost:8080/"
        },
        "id": "tC6Lji7n3t0V",
        "outputId": "15e4388c-8db5-41eb-9fc7-4f7021ee6848"
      },
      "execution_count": null,
      "outputs": [
        {
          "output_type": "stream",
          "name": "stdout",
          "text": [
            " choose a number between 1 or 2 2\n",
            "************\n",
            "*          *\n",
            "*          *\n",
            "*          *\n",
            "*          *\n",
            "************\n"
          ]
        }
      ]
    },
    {
      "cell_type": "markdown",
      "source": [
        "task2"
      ],
      "metadata": {
        "id": "xAthP7uH8kFM"
      }
    },
    {
      "cell_type": "code",
      "source": [
        "student={\"Name\":\"Laiba\",\"ID\":\"6284\",\"Dept\":\"DS\",\"Subject\":\"Big data\"}\n",
        "print(student)\n",
        "#access the items\n",
        "x=student[\"ID\"]\n",
        "print(x)\n",
        "#using get function\n",
        "x=student.get(\"Name\")\n",
        "print(x)\n",
        "#chsnging the values\n",
        "student.update({\"Subject\":\"Lab of Big data\"})\n",
        "print(student)\n",
        "print(len(student))\n",
        "\n",
        "courses=(\"big data\",\"database\",\"advance stats\")\n",
        "x=(\"software\",)\n",
        "courses=courses+x\n",
        "print(courses)\n",
        "print(len(courses))\n",
        "#accesing the items\n",
        "print(courses[1])"
      ],
      "metadata": {
        "colab": {
          "base_uri": "https://localhost:8080/"
        },
        "id": "uVSJ75Wk8lK2",
        "outputId": "5164d98a-e24a-45ef-aa01-693d9831abb7"
      },
      "execution_count": null,
      "outputs": [
        {
          "output_type": "stream",
          "name": "stdout",
          "text": [
            "{'Name': 'Laiba', 'ID': '6284', 'Dept': 'DS', 'Subject': 'Big data'}\n",
            "6284\n",
            "Laiba\n",
            "{'Name': 'Laiba', 'ID': '6284', 'Dept': 'DS', 'Subject': 'Lab of Big data'}\n",
            "4\n",
            "('big data', 'database', 'advance stats', 'software')\n",
            "4\n",
            "database\n"
          ]
        }
      ]
    },
    {
      "cell_type": "markdown",
      "source": [
        "task 3"
      ],
      "metadata": {
        "id": "8uUY0iucDO4C"
      }
    },
    {
      "cell_type": "code",
      "source": [
        "x=input(\" enter height \")\n",
        "y=input(\" enter radius \")\n",
        "x=float(x)\n",
        "y=float(y)\n",
        "pi=float(3.14)\n",
        "volume=pi*y**2*x\n",
        "print(volume)\n",
        "\n"
      ],
      "metadata": {
        "colab": {
          "base_uri": "https://localhost:8080/"
        },
        "id": "E5f-WEirDP_y",
        "outputId": "f8742ba6-c05d-458b-f926-a61b9467d202"
      },
      "execution_count": null,
      "outputs": [
        {
          "output_type": "stream",
          "name": "stdout",
          "text": [
            " enter height 2\n",
            " enter radius 3\n",
            "56.52\n"
          ]
        }
      ]
    },
    {
      "cell_type": "markdown",
      "source": [
        "task 4"
      ],
      "metadata": {
        "id": "X7gNOblaFh4r"
      }
    },
    {
      "cell_type": "code",
      "source": [
        "def cal(num,op1,op2):\n",
        "  if num=='1':\n",
        "    print(\"Adding two number\",op1+op2)\n",
        "  elif num=='2':\n",
        "    print(\"Subtracting two numbers\",op1-op2)\n",
        "  elif num=='3':\n",
        "    print(\"Multiplying \",op1*op2)\n",
        "  elif num=='4':\n",
        "    print(\"Division \", op1/op2)\n",
        "\n",
        "\n",
        "  return\n",
        "\n",
        "\n",
        "\n",
        "x=input(\"enter a number from 1 to 4 \")\n",
        "y=input(\"enter first num \")\n",
        "z=input(\"enter second num \")\n",
        "y=int(y)\n",
        "z=int(z)\n",
        "cal(x,y,z)"
      ],
      "metadata": {
        "colab": {
          "base_uri": "https://localhost:8080/"
        },
        "id": "YwwLTkHLFi5r",
        "outputId": "656c9d85-f3e2-47b9-a9e5-d54caa49ebf1"
      },
      "execution_count": null,
      "outputs": [
        {
          "output_type": "stream",
          "name": "stdout",
          "text": [
            "enter a number from 1 to 44\n",
            "enter first num8\n",
            "enter second num 2\n",
            "Division  4.0\n"
          ]
        }
      ]
    },
    {
      "cell_type": "markdown",
      "source": [
        "task 5"
      ],
      "metadata": {
        "id": "Wqg7XdIYIWEC"
      }
    },
    {
      "cell_type": "code",
      "source": [
        "x=input( \"enter a word \")\n",
        "length=len(x)\n",
        "x=x.lower()\n",
        "y=x[::-1]\n",
        "if x==y:\n",
        "    print(\"is palindrome\")\n",
        "else:\n",
        "  print(\"not palindrome\")"
      ],
      "metadata": {
        "colab": {
          "base_uri": "https://localhost:8080/"
        },
        "id": "sNw5UsBiIX6i",
        "outputId": "6abe578c-a175-4d1c-971c-c1ed99fda034"
      },
      "execution_count": null,
      "outputs": [
        {
          "output_type": "stream",
          "name": "stdout",
          "text": [
            "enter a word ndieShswu\n",
            "not palindrome\n"
          ]
        }
      ]
    },
    {
      "cell_type": "markdown",
      "source": [
        "task 6"
      ],
      "metadata": {
        "id": "B0X4-GIVIkzQ"
      }
    },
    {
      "cell_type": "code",
      "source": [
        "def factorial(num):\n",
        "  if num==0 or num==1:\n",
        "    return 1\n",
        "  else:\n",
        "    return num * factorial(num-1)\n",
        "\n",
        "x=input(\"Enter a number \")\n",
        "x=int(x)\n",
        "print(\"Factorial of number is \",factorial(x))\n"
      ],
      "metadata": {
        "colab": {
          "base_uri": "https://localhost:8080/"
        },
        "id": "9v_jmrggImOp",
        "outputId": "51bc1459-bf2f-4147-a267-60359b890018"
      },
      "execution_count": null,
      "outputs": [
        {
          "output_type": "stream",
          "name": "stdout",
          "text": [
            "Enter a number 5\n",
            "Factorial of number is  120\n"
          ]
        }
      ]
    },
    {
      "cell_type": "markdown",
      "source": [
        "task 7"
      ],
      "metadata": {
        "id": "5SpwkW5AKxZ9"
      }
    },
    {
      "cell_type": "code",
      "source": [
        "x=list((1,2,3))\n",
        "y=list((2,3,4))\n",
        "x.sort()\n",
        "y.sort\n",
        "if x==y:\n",
        "  print(\"lists are same\")\n",
        "else:\n",
        "  print(\"lists are different\")"
      ],
      "metadata": {
        "colab": {
          "base_uri": "https://localhost:8080/"
        },
        "id": "hDTdhiTXKypF",
        "outputId": "2891f21c-e309-4f64-ff2d-8cfdd08ef7db"
      },
      "execution_count": null,
      "outputs": [
        {
          "output_type": "stream",
          "name": "stdout",
          "text": [
            "lists are different\n"
          ]
        }
      ]
    },
    {
      "cell_type": "markdown",
      "source": [
        "task 8"
      ],
      "metadata": {
        "id": "ZE8BHL4ZNq9O"
      }
    },
    {
      "cell_type": "code",
      "source": [
        "x=set((1,2,3,4,5,6,7))\n",
        "y=set((2,3,4))\n",
        "print(x.issuperset(y))"
      ],
      "metadata": {
        "colab": {
          "base_uri": "https://localhost:8080/"
        },
        "id": "zE5oGCtgNtfd",
        "outputId": "b69ed6be-77b9-4328-f0a2-863812a093f5"
      },
      "execution_count": null,
      "outputs": [
        {
          "output_type": "stream",
          "name": "stdout",
          "text": [
            "True\n"
          ]
        }
      ]
    }
  ]
}